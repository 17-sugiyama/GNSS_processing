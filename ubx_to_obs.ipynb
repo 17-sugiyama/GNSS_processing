{
 "cells": [
  {
   "cell_type": "code",
   "execution_count": 1,
   "id": "f3a263a3",
   "metadata": {},
   "outputs": [],
   "source": [
    "import subprocess\n",
    "import os\n",
    "import gzip\n",
    "import shutil"
   ]
  },
  {
   "cell_type": "markdown",
   "id": "69c36726",
   "metadata": {},
   "source": [
    "# Description"
   ]
  },
  {
   "cell_type": "markdown",
   "id": "bcaafeb1",
   "metadata": {},
   "source": [
    "We use convbin app from RTKLIB.\n",
    "Clone https://github.com/tomojitakasu/RTKLIB/tree/rtklib_2.4.3 and run \\\n",
    "$ RTKLIB/app/convbin/gcc make"
   ]
  },
  {
   "cell_type": "markdown",
   "id": "0e360619",
   "metadata": {},
   "source": [
    "This notebook runs the following process:\n",
    "1. Decompress the ubx files\n",
    "2. Convert ubx files to obs files using convbin\n",
    "3. Compress the obs files"
   ]
  },
  {
   "cell_type": "markdown",
   "id": "ea7dec42",
   "metadata": {},
   "source": [
    "## Directry structure"
   ]
  },
  {
   "cell_type": "markdown",
   "id": "12a65f0b",
   "metadata": {},
   "source": [
    "Our ubx files are compressed and stored in \"SA_ubx_data\" folder.\n",
    " \n",
    "> SA_ubx_data/\n",
    ">> rov_202304010000.log.ubx.gz\\\n",
    ">> rov_202304020000.log.ubx.gz\\\n",
    ">> rov_202304030000.log.ubx.gz, ..."
   ]
  },
  {
   "cell_type": "markdown",
   "id": "f9d71793",
   "metadata": {},
   "source": [
    "Converted obs files are compressed and stored in \"SA_GNSS_data/22300000_obs/\" folder.\n",
    " \n",
    " > 22300000_obs/\n",
    " >> 202304/\n",
    " >>> rov_20230401.obs.gz\\\n",
    " >>> rov_20230402.obs.gz, ..."
   ]
  },
  {
   "cell_type": "markdown",
   "id": "d6afdb12",
   "metadata": {},
   "source": [
    "## Minor bugs\n",
    "convbin has options to limit the time range of output obs files, -ts and -te.\\\n",
    "They are declared as following:\\\n",
    "-ts 2023/04/01 10:00:00\\\n",
    "-te 2023/04/01 12:00:00.\\\n",
    "However, -ts recognizes date but doesn't recognize time.\\\n",
    "On top of that, -te does nothing.\n"
   ]
  },
  {
   "cell_type": "code",
   "execution_count": 2,
   "id": "be3fc047-3124-46c7-b45c-a054752a8481",
   "metadata": {},
   "outputs": [],
   "source": [
    "def convert_ubx(input_file, output_file, start_time, end_time, convbin_path=\"RTKLIB-rtklib_2.4.3/app/consapp/convbin/gcc/convbin\"):\n",
    "    options = [\n",
    "        \"-ts\", start_time,\n",
    "        \"-te\", end_time,\n",
    "        \"-ha\", \"00000000/TWIVSP6037L\", # antenna type\n",
    "        \"-f\", \"5\", # number of frequencies\n",
    "        \"-d\", output_file\n",
    "    ]\n",
    "\n",
    "    cmd = [convbin_path, *options, input_file]\n",
    "\n",
    "    result = subprocess.run(cmd, capture_output=True, text=True)\n",
    "\n",
    "    if result.returncode == 0:\n",
    "        print(input_file+\" has been successfully converted.\")\n",
    "        print(result.stdout)\n",
    "    else:\n",
    "        print(\"Failed to process \"+input_file)\n",
    "        print(result.stderr)"
   ]
  },
  {
   "cell_type": "code",
   "execution_count": 22,
   "id": "a1d15b31",
   "metadata": {},
   "outputs": [
    {
     "data": {
      "text/plain": [
       "['rov_202304010000.log.ubx.gz',\n",
       " 'rov_202304020000.log.ubx.gz',\n",
       " 'rov_202304030000.log.ubx.gz',\n",
       " 'rov_202304031214.log.ubx.gz',\n",
       " 'rov_202304040000.log.ubx.gz',\n",
       " 'rov_202304050000.log.ubx.gz',\n",
       " 'rov_202304060000.log.ubx.gz',\n",
       " 'rov_202304070000.log.ubx.gz',\n",
       " 'rov_202304080000.log.ubx.gz',\n",
       " 'rov_202304090000.log.ubx.gz',\n",
       " 'rov_202304090950.log.ubx.gz',\n",
       " 'rov_202304100000.log.ubx.gz',\n",
       " 'rov_202304110000.log.ubx.gz',\n",
       " 'rov_202304120000.log.ubx.gz',\n",
       " 'rov_202304130000.log.ubx.gz',\n",
       " 'rov_202304140000.log.ubx.gz',\n",
       " 'rov_202304150000.log.ubx.gz',\n",
       " 'rov_202304160000.log.ubx.gz',\n",
       " 'rov_202304170000.log.ubx.gz',\n",
       " 'rov_202304210252.log.ubx.gz',\n",
       " 'rov_202304220000.log.ubx.gz',\n",
       " 'rov_202304230000.log.ubx.gz',\n",
       " 'rov_202304240000.log.ubx.gz',\n",
       " 'rov_202304250000.log.ubx.gz',\n",
       " 'rov_202304260000.log.ubx.gz',\n",
       " 'rov_202304270000.log.ubx.gz',\n",
       " 'rov_202304280000.log.ubx.gz',\n",
       " 'rov_202304290000.log.ubx.gz',\n",
       " 'rov_202304291442.log.ubx.gz',\n",
       " 'rov_202304300000.log.ubx.gz']"
      ]
     },
     "execution_count": 22,
     "metadata": {},
     "output_type": "execute_result"
    }
   ],
   "source": [
    "# get filelist\n",
    "gz_path = \"SA_ubx_data\"\n",
    "list_ubx = [d for d in os.listdir(gz_path) if d.find('rov_202304')==0]\n",
    "list_ubx.sort()\n",
    "list_ubx"
   ]
  },
  {
   "cell_type": "code",
   "execution_count": 23,
   "id": "bee7fcfc",
   "metadata": {},
   "outputs": [
    {
     "name": "stdout",
     "output_type": "stream",
     "text": [
      "SA_GNSS_data/22300000_obs/202304/rov_202304010000.log.ubx has been successfully converted.\n",
      "\n",
      "SA_GNSS_data/22300000_obs/202304/rov_202304020000.log.ubx has been successfully converted.\n",
      "\n",
      "SA_GNSS_data/22300000_obs/202304/rov_202304030000.log.ubx has been successfully converted.\n",
      "\n",
      "SA_GNSS_data/22300000_obs/202304/rov_202304031214.log.ubx has been successfully converted.\n",
      "\n",
      "SA_GNSS_data/22300000_obs/202304/rov_202304040000.log.ubx has been successfully converted.\n",
      "\n",
      "SA_GNSS_data/22300000_obs/202304/rov_202304050000.log.ubx has been successfully converted.\n",
      "\n",
      "SA_GNSS_data/22300000_obs/202304/rov_202304060000.log.ubx has been successfully converted.\n",
      "\n",
      "SA_GNSS_data/22300000_obs/202304/rov_202304070000.log.ubx has been successfully converted.\n",
      "\n",
      "SA_GNSS_data/22300000_obs/202304/rov_202304080000.log.ubx has been successfully converted.\n",
      "\n"
     ]
    }
   ],
   "source": [
    "for i, gz_file in enumerate(list_ubx):\n",
    "    # decompress the gz file\n",
    "    obs_path = \"SA_GNSS_data/22300000_obs/\"+gz_file[4:10] # directry to store obs file\n",
    "    if not os.path.exists(obs_path):\n",
    "        os.makedirs(obs_path)\n",
    "    gz_file_dir = os.path.join(gz_path, gz_file)\n",
    "    decompressed_file_dir = os.path.join(obs_path, gz_file[:-3])\n",
    "    with gzip.open(gz_file_dir, mode=\"rb\") as gzip_file:\n",
    "        with open(decompressed_file_dir, mode=\"wb\") as decompressed_file:\n",
    "            shutil.copyfileobj(gzip_file, decompressed_file)\n",
    "    # convert to obs file\n",
    "    input_file = decompressed_file_dir\n",
    "    year = gz_file[4:8]\n",
    "    month = gz_file[8:10]\n",
    "    day = gz_file[10:12]\n",
    "    start_time =year+\"/\"+month+\"/\"+day+\" 00:00:00\"\n",
    "    end_time =year+\"/\"+month+\"/\"+day+\" 23:59:59\"\n",
    "    output_folder = os.path.join(obs_path,\"rov_\"+year+month+day)\n",
    "    convert_ubx(input_file, output_folder, start_time, end_time)\n",
    "    # pick up obs file from the output\n",
    "    obs_file = os.path.join(output_folder, gz_file[:-6]+\"obs\")\n",
    "    new_path = shutil.move(obs_file, obs_path)\n",
    "    shutil.rmtree(output_folder)\n",
    "    obs_file = os.path.join(obs_path, gz_file[:-6]+\"obs\")\n",
    "    \n",
    "    # compress the obs file\n",
    "    with open(obs_file, \"rb\") as obs_raw:\n",
    "        with gzip.open(os.path.join(obs_path,\"rov_\"+year+month+day+\".obs.gz\"), \"wb\") as obs_compressed:\n",
    "            shutil.copyfileobj(obs_raw, obs_compressed)\n",
    "    # remove raw obs file\n",
    "    os.remove(obs_file)\n",
    "    # delete decompressed ubx file\n",
    "    os.remove(decompressed_file_dir)\n",
    "\n"
   ]
  }
 ],
 "metadata": {
  "kernelspec": {
   "display_name": "Python 3",
   "language": "python",
   "name": "python3"
  },
  "language_info": {
   "codemirror_mode": {
    "name": "ipython",
    "version": 3
   },
   "file_extension": ".py",
   "mimetype": "text/x-python",
   "name": "python",
   "nbconvert_exporter": "python",
   "pygments_lexer": "ipython3",
   "version": "3.8.0"
  }
 },
 "nbformat": 4,
 "nbformat_minor": 5
}
