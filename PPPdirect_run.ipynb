{
 "cells": [
  {
   "cell_type": "code",
   "execution_count": 1,
   "metadata": {},
   "outputs": [],
   "source": [
    "import os\n",
    "import subprocess"
   ]
  },
  {
   "cell_type": "markdown",
   "metadata": {},
   "source": [
    "# Description"
   ]
  },
  {
   "cell_type": "markdown",
   "metadata": {},
   "source": [
    "We use \"PPP direct\", windows desktop app for CSRS-PPP, which can be downloaded from Canadian gorverment website.\\\n",
    "Canada.ca > Natural Resources Canada > Maps, Tools and Publications > Geodetic Reference Systems > Geodetic tools and data > Desktop Applications\\\n",
    "This app enables us to automatically download the csrs-ppp result files to your local folder."
   ]
  },
  {
   "cell_type": "markdown",
   "metadata": {},
   "source": [
    "After the installation of PPP direct app, PPP direct.lnk will be created on your desktop. \\\n",
    "Opening the app, you can change the configuration of csrs-ppp.\\\n",
    "The official instruction says that PPPdirect lets the user \"drag and drop\" RINEX files onto a desktop icon where they are immediately submitted for CSRS-PPP processing.\\\n",
    "The following cells do it by the script.\\\n",
    "I would like to note that pppdirect_path must be .lnk file on your desktop, not .exe in the Program Files. Otherwise the script doesn't work."
   ]
  },
  {
   "cell_type": "code",
   "execution_count": 5,
   "metadata": {},
   "outputs": [
    {
     "data": {
      "text/plain": [
       "['rov_20240201.obs.gz',\n",
       " 'rov_20240202.obs.gz',\n",
       " 'rov_20240203.obs.gz',\n",
       " 'rov_20240204.obs.gz',\n",
       " 'rov_20240207.obs.gz',\n",
       " 'rov_20240208.obs.gz',\n",
       " 'rov_20240209.obs.gz',\n",
       " 'rov_20240210.obs.gz',\n",
       " 'rov_20240211.obs.gz',\n",
       " 'rov_20240212.obs.gz',\n",
       " 'rov_20240213.obs.gz',\n",
       " 'rov_20240214.obs.gz',\n",
       " 'rov_20240215.obs.gz',\n",
       " 'rov_20240216.obs.gz',\n",
       " 'rov_20240217.obs.gz',\n",
       " 'rov_20240218.obs.gz',\n",
       " 'rov_20240219.obs.gz',\n",
       " 'rov_20240220.obs.gz',\n",
       " 'rov_20240221.obs.gz',\n",
       " 'rov_20240222.obs.gz',\n",
       " 'rov_20240223.obs.gz',\n",
       " 'rov_20240224.obs.gz',\n",
       " 'rov_20240225.obs.gz',\n",
       " 'rov_20240226.obs.gz',\n",
       " 'rov_20240227.obs.gz',\n",
       " 'rov_20240228.obs.gz',\n",
       " 'rov_20240229.obs.gz']"
      ]
     },
     "execution_count": 5,
     "metadata": {},
     "output_type": "execute_result"
    }
   ],
   "source": [
    "pppdirect_path = \"C:/Users/Public/Desktop/PPP direct.lnk\"\n",
    "obs_path = 'Z:/jsugiyama/SA_GNSS_data/22300000_obs/202402'\n",
    "# ファイルリスト\n",
    "file_list = [d for d in os.listdir(obs_path)]\n",
    "file_list"
   ]
  },
  {
   "cell_type": "code",
   "execution_count": null,
   "metadata": {},
   "outputs": [],
   "source": [
    "# create batch file\n",
    "batch_file_path = os.path.join(obs_path,\"temp_open_files.bat\")\n",
    "with open(batch_file_path, 'w') as batch_file:\n",
    "    batch_file.write('@echo off\\n')\n",
    "    batch_file.write('set pppdirect_path=\"C:/Users/Public/Desktop/PPP direct.lnk\"\\n')\n",
    "    for target_file in file_list:\n",
    "        file_name = os.path.join(obs_path, target_file)\n",
    "        batch_file.write(f'set target_file=\"{file_name}\"\\n')\n",
    "        batch_file.write('start \"\" %pppdirect_path% %target_file%\\n') \n",
    "\n",
    "# execute batch script\n",
    "# This script processes multiple files at one time. Too many input files would be better avoided.\n",
    "subprocess.run([batch_file_path])\n",
    "\n",
    "# remove batch file\n",
    "os.remove(batch_file_path)"
   ]
  }
 ],
 "metadata": {
  "kernelspec": {
   "display_name": "Python 3",
   "language": "python",
   "name": "python3"
  },
  "language_info": {
   "codemirror_mode": {
    "name": "ipython",
    "version": 3
   },
   "file_extension": ".py",
   "mimetype": "text/x-python",
   "name": "python",
   "nbconvert_exporter": "python",
   "pygments_lexer": "ipython3",
   "version": "3.8.8"
  }
 },
 "nbformat": 4,
 "nbformat_minor": 2
}
